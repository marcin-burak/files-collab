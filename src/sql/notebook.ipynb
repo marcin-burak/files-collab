{
    "metadata": {
        "kernelspec": {
            "name": "SQL",
            "display_name": "SQL",
            "language": "sql"
        },
        "language_info": {
            "name": "sql",
            "version": ""
        }
    },
    "nbformat_minor": 2,
    "nbformat": 4,
    "cells": [
        {
            "cell_type": "markdown",
            "source": [
                "# List users\r\n",
                "List the user table."
            ],
            "metadata": {
                "language": "sql",
                "azdata_cell_guid": "e5b47108-6fd2-405f-997d-2eb4329b1419"
            },
            "attachments": {}
        },
        {
            "cell_type": "code",
            "source": [
                "select top 10 * from Application.dbo.[User]"
            ],
            "metadata": {
                "azdata_cell_guid": "e5cdc450-1cf9-4ee4-8ba9-6b3976a3da95",
                "language": "sql"
            },
            "outputs": [
                {
                    "output_type": "display_data",
                    "data": {
                        "text/html": "(3 rows affected)"
                    },
                    "metadata": {}
                },
                {
                    "output_type": "display_data",
                    "data": {
                        "text/html": "Total execution time: 00:00:00.015"
                    },
                    "metadata": {}
                },
                {
                    "output_type": "execute_result",
                    "metadata": {},
                    "execution_count": 4,
                    "data": {
                        "application/vnd.dataresource+json": {
                            "schema": {
                                "fields": [
                                    {
                                        "name": "Id"
                                    },
                                    {
                                        "name": "Username"
                                    }
                                ]
                            },
                            "data": [
                                {
                                    "Id": "ad1ca9cb-d1f0-ec98-86fd-cff46e45f672",
                                    "Username": "User A"
                                },
                                {
                                    "Id": "22920e04-3ebe-7dd4-7a4a-1accd1e8852a",
                                    "Username": "User B"
                                },
                                {
                                    "Id": "37177060-e806-419c-ec00-2266aabfa95d",
                                    "Username": "User C"
                                }
                            ]
                        },
                        "text/html": [
                            "<table>",
                            "<tr><th>Id</th><th>Username</th></tr>",
                            "<tr><td>ad1ca9cb-d1f0-ec98-86fd-cff46e45f672</td><td>User A</td></tr>",
                            "<tr><td>22920e04-3ebe-7dd4-7a4a-1accd1e8852a</td><td>User B</td></tr>",
                            "<tr><td>37177060-e806-419c-ec00-2266aabfa95d</td><td>User C</td></tr>",
                            "</table>"
                        ]
                    }
                }
            ],
            "execution_count": 4
        },
        {
            "cell_type": "markdown",
            "source": [
                "# Calculate user permissions\r\n",
                "Find the most performant way of querying for all user permissions. Try out join and split query approaches."
            ],
            "metadata": {
                "language": "sql",
                "azdata_cell_guid": "3083c31b-9505-4e53-8634-ceef994dc2f7"
            },
            "attachments": {}
        },
        {
            "cell_type": "code",
            "source": [
                "select distinct Permission.Id from Application.dbo.[User] [User]\r\n",
                "left outer join Application.dbo.UserRoles UserRoleMap on [User].Id = UserRoleMap.UserId\r\n",
                "left outer join Application.dbo.Role UserRole on UserRoleMap.RoleId = UserRole.Id\r\n",
                "left outer join Application.dbo.UserGroups UserGroupMap on [User].Id = UserGroupMap.UserId\r\n",
                "left outer join Application.dbo.[Group] [Group] on UserGroupMap.GroupId = [Group].Id\r\n",
                "left outer join Application.dbo.GroupRoles GroupRoleMap on [Group].Id = GroupRoleMap.GroupId\r\n",
                "left outer join Application.dbo.Role GroupRole on GroupRoleMap.RoleId = GroupRole.Id\r\n",
                "left outer join Application.dbo.RolePermissions RolePermissionMap on UserRole.Id = RolePermissionMap.RoleId or GroupRole.Id = RolePermissionMap.RoleId\r\n",
                "left outer join Application.dbo.Permission Permission on RolePermissionMap.PermissionId = Permission.Id\r\n",
                "where [User].Username = 'User A'"
            ],
            "metadata": {
                "language": "sql",
                "azdata_cell_guid": "22f60fca-b4aa-407e-b5c4-95b73e532b22",
                "tags": []
            },
            "outputs": [
                {
                    "output_type": "display_data",
                    "data": {
                        "text/html": "(1 row affected)"
                    },
                    "metadata": {}
                },
                {
                    "output_type": "display_data",
                    "data": {
                        "text/html": "Total execution time: 00:00:00.094"
                    },
                    "metadata": {}
                },
                {
                    "output_type": "execute_result",
                    "metadata": {},
                    "execution_count": 39,
                    "data": {
                        "application/vnd.dataresource+json": {
                            "schema": {
                                "fields": [
                                    {
                                        "name": "Id"
                                    }
                                ]
                            },
                            "data": [
                                {
                                    "Id": "MANAGE_WORKSPACES"
                                }
                            ]
                        },
                        "text/html": [
                            "<table>",
                            "<tr><th>Id</th></tr>",
                            "<tr><td>MANAGE_WORKSPACES</td></tr>",
                            "</table>"
                        ]
                    }
                }
            ],
            "execution_count": 39
        }
    ]
}